{
  "nbformat": 4,
  "nbformat_minor": 0,
  "metadata": {
    "colab": {
      "name": "lstm aylık enflasyon.ipynb",
      "provenance": [],
      "collapsed_sections": []
    },
    "kernelspec": {
      "name": "python3",
      "display_name": "Python 3"
    }
  },
  "cells": [
    {
      "cell_type": "code",
      "metadata": {
        "id": "RiIEHXyG8MlN"
      },
      "source": [
        "import os\n",
        " \n",
        "import pandas as pd\n",
        "import numpy as np\n",
        " \n",
        "import matplotlib.pyplot as plt\n",
        " \n",
        "from keras.models import Sequential\n",
        "from keras.layers import Dense, LSTM\n",
        "from keras.optimizers import RMSprop\n",
        " \n",
        "from sklearn.preprocessing import MinMaxScaler\n",
        "from sklearn.metrics import mean_squared_error"
      ],
      "execution_count": 68,
      "outputs": []
    },
    {
      "cell_type": "code",
      "metadata": {
        "id": "uP0u2_nY8HZO",
        "outputId": "bd0880b6-7b54-41fd-b0a5-eaf55effb823",
        "colab": {
          "resources": {
            "http://localhost:8080/nbextensions/google.colab/files.js": {
              "data": "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",
              "ok": true,
              "headers": [
                [
                  "content-type",
                  "application/javascript"
                ]
              ],
              "status": 200,
              "status_text": ""
            }
          },
          "base_uri": "https://localhost:8080/",
          "height": 344
        }
      },
      "source": [
        "from google.colab import files\n",
        "uploaded = files.upload()"
      ],
      "execution_count": 69,
      "outputs": [
        {
          "output_type": "display_data",
          "data": {
            "text/html": [
              "\n",
              "     <input type=\"file\" id=\"files-9f722763-6073-427e-8247-00c97a980f44\" name=\"files[]\" multiple disabled\n",
              "        style=\"border:none\" />\n",
              "     <output id=\"result-9f722763-6073-427e-8247-00c97a980f44\">\n",
              "      Upload widget is only available when the cell has been executed in the\n",
              "      current browser session. Please rerun this cell to enable.\n",
              "      </output>\n",
              "      <script src=\"/nbextensions/google.colab/files.js\"></script> "
            ],
            "text/plain": [
              "<IPython.core.display.HTML object>"
            ]
          },
          "metadata": {
            "tags": []
          }
        },
        {
          "output_type": "error",
          "ename": "KeyboardInterrupt",
          "evalue": "ignored",
          "traceback": [
            "\u001b[0;31m---------------------------------------------------------------------------\u001b[0m",
            "\u001b[0;31mKeyboardInterrupt\u001b[0m                         Traceback (most recent call last)",
            "\u001b[0;32m<ipython-input-69-21dc3c638f66>\u001b[0m in \u001b[0;36m<module>\u001b[0;34m()\u001b[0m\n\u001b[1;32m      1\u001b[0m \u001b[0;32mfrom\u001b[0m \u001b[0mgoogle\u001b[0m\u001b[0;34m.\u001b[0m\u001b[0mcolab\u001b[0m \u001b[0;32mimport\u001b[0m \u001b[0mfiles\u001b[0m\u001b[0;34m\u001b[0m\u001b[0;34m\u001b[0m\u001b[0m\n\u001b[0;32m----> 2\u001b[0;31m \u001b[0muploaded\u001b[0m \u001b[0;34m=\u001b[0m \u001b[0mfiles\u001b[0m\u001b[0;34m.\u001b[0m\u001b[0mupload\u001b[0m\u001b[0;34m(\u001b[0m\u001b[0;34m)\u001b[0m\u001b[0;34m\u001b[0m\u001b[0;34m\u001b[0m\u001b[0m\n\u001b[0m",
            "\u001b[0;32m/usr/local/lib/python3.6/dist-packages/google/colab/files.py\u001b[0m in \u001b[0;36mupload\u001b[0;34m()\u001b[0m\n\u001b[1;32m     62\u001b[0m   result = _output.eval_js(\n\u001b[1;32m     63\u001b[0m       'google.colab._files._uploadFiles(\"{input_id}\", \"{output_id}\")'.format(\n\u001b[0;32m---> 64\u001b[0;31m           input_id=input_id, output_id=output_id))\n\u001b[0m\u001b[1;32m     65\u001b[0m   \u001b[0mfiles\u001b[0m \u001b[0;34m=\u001b[0m \u001b[0m_collections\u001b[0m\u001b[0;34m.\u001b[0m\u001b[0mdefaultdict\u001b[0m\u001b[0;34m(\u001b[0m\u001b[0m_six\u001b[0m\u001b[0;34m.\u001b[0m\u001b[0mbinary_type\u001b[0m\u001b[0;34m)\u001b[0m\u001b[0;34m\u001b[0m\u001b[0;34m\u001b[0m\u001b[0m\n\u001b[1;32m     66\u001b[0m   \u001b[0;31m# Mapping from original filename to filename as saved locally.\u001b[0m\u001b[0;34m\u001b[0m\u001b[0;34m\u001b[0m\u001b[0;34m\u001b[0m\u001b[0m\n",
            "\u001b[0;32m/usr/local/lib/python3.6/dist-packages/google/colab/output/_js.py\u001b[0m in \u001b[0;36meval_js\u001b[0;34m(script, ignore_result)\u001b[0m\n\u001b[1;32m     37\u001b[0m   \u001b[0;32mif\u001b[0m \u001b[0mignore_result\u001b[0m\u001b[0;34m:\u001b[0m\u001b[0;34m\u001b[0m\u001b[0;34m\u001b[0m\u001b[0m\n\u001b[1;32m     38\u001b[0m     \u001b[0;32mreturn\u001b[0m\u001b[0;34m\u001b[0m\u001b[0;34m\u001b[0m\u001b[0m\n\u001b[0;32m---> 39\u001b[0;31m   \u001b[0;32mreturn\u001b[0m \u001b[0m_message\u001b[0m\u001b[0;34m.\u001b[0m\u001b[0mread_reply_from_input\u001b[0m\u001b[0;34m(\u001b[0m\u001b[0mrequest_id\u001b[0m\u001b[0;34m)\u001b[0m\u001b[0;34m\u001b[0m\u001b[0;34m\u001b[0m\u001b[0m\n\u001b[0m\u001b[1;32m     40\u001b[0m \u001b[0;34m\u001b[0m\u001b[0m\n\u001b[1;32m     41\u001b[0m \u001b[0;34m\u001b[0m\u001b[0m\n",
            "\u001b[0;32m/usr/local/lib/python3.6/dist-packages/google/colab/_message.py\u001b[0m in \u001b[0;36mread_reply_from_input\u001b[0;34m(message_id, timeout_sec)\u001b[0m\n\u001b[1;32m     99\u001b[0m     \u001b[0mreply\u001b[0m \u001b[0;34m=\u001b[0m \u001b[0m_read_next_input_message\u001b[0m\u001b[0;34m(\u001b[0m\u001b[0;34m)\u001b[0m\u001b[0;34m\u001b[0m\u001b[0;34m\u001b[0m\u001b[0m\n\u001b[1;32m    100\u001b[0m     \u001b[0;32mif\u001b[0m \u001b[0mreply\u001b[0m \u001b[0;34m==\u001b[0m \u001b[0m_NOT_READY\u001b[0m \u001b[0;32mor\u001b[0m \u001b[0;32mnot\u001b[0m \u001b[0misinstance\u001b[0m\u001b[0;34m(\u001b[0m\u001b[0mreply\u001b[0m\u001b[0;34m,\u001b[0m \u001b[0mdict\u001b[0m\u001b[0;34m)\u001b[0m\u001b[0;34m:\u001b[0m\u001b[0;34m\u001b[0m\u001b[0;34m\u001b[0m\u001b[0m\n\u001b[0;32m--> 101\u001b[0;31m       \u001b[0mtime\u001b[0m\u001b[0;34m.\u001b[0m\u001b[0msleep\u001b[0m\u001b[0;34m(\u001b[0m\u001b[0;36m0.025\u001b[0m\u001b[0;34m)\u001b[0m\u001b[0;34m\u001b[0m\u001b[0;34m\u001b[0m\u001b[0m\n\u001b[0m\u001b[1;32m    102\u001b[0m       \u001b[0;32mcontinue\u001b[0m\u001b[0;34m\u001b[0m\u001b[0;34m\u001b[0m\u001b[0m\n\u001b[1;32m    103\u001b[0m     if (reply.get('type') == 'colab_reply' and\n",
            "\u001b[0;31mKeyboardInterrupt\u001b[0m: "
          ]
        }
      ]
    },
    {
      "cell_type": "code",
      "metadata": {
        "id": "exIpxNkT3X78"
      },
      "source": [
        "import io\n",
        "df = pd.read_excel(io.BytesIO(uploaded['enflasyonaylık.xlsx']), header=0, parse_dates=['Date'], index_col=\"Date\", squeeze=True)\n"
      ],
      "execution_count": 70,
      "outputs": []
    },
    {
      "cell_type": "code",
      "metadata": {
        "id": "nkMGX9Uj-Pxo",
        "outputId": "1637fe10-ce7d-4047-a2a3-9abdbb856662",
        "colab": {
          "base_uri": "https://localhost:8080/"
        }
      },
      "source": [
        "df"
      ],
      "execution_count": 71,
      "outputs": [
        {
          "output_type": "execute_result",
          "data": {
            "text/plain": [
              "Date\n",
              "2005-01-01    0.55\n",
              "2005-02-01    0.02\n",
              "2005-03-01    0.26\n",
              "2005-04-01    0.71\n",
              "2005-05-01    0.92\n",
              "              ... \n",
              "2018-10-01    2.67\n",
              "2018-11-01   -1.44\n",
              "2018-12-01   -0.40\n",
              "2019-01-01    1.06\n",
              "2019-02-01    0.16\n",
              "Name: enflasyon, Length: 170, dtype: float64"
            ]
          },
          "metadata": {
            "tags": []
          },
          "execution_count": 71
        }
      ]
    },
    {
      "cell_type": "code",
      "metadata": {
        "id": "CsWxRTG7RGrF"
      },
      "source": [
        "series = pd.DataFrame(df)\n",
        "df.index = pd.to_datetime(df.index)"
      ],
      "execution_count": 72,
      "outputs": []
    },
    {
      "cell_type": "code",
      "metadata": {
        "id": "9CvsmxbFREwZ"
      },
      "source": [
        "train = series.loc[series.index < '2012-01-01']\n",
        "test = series.loc[series.index >= '2012-01-01']"
      ],
      "execution_count": 113,
      "outputs": []
    },
    {
      "cell_type": "code",
      "metadata": {
        "id": "BtzRTVPIRYz7"
      },
      "source": [
        "sc = MinMaxScaler(feature_range=(0,1))\n",
        "train_scaled = sc.fit_transform(train)"
      ],
      "execution_count": 114,
      "outputs": []
    },
    {
      "cell_type": "code",
      "metadata": {
        "id": "HLTXRpj-RcTa"
      },
      "source": [
        "n_lag = 12\n",
        "X_train = []\n",
        "y_train = []\n",
        "for i in range(n_lag, len(train)):\n",
        "    X_train.append(train_scaled[i-n_lag:i, 0])\n",
        "    y_train.append(train_scaled[i, 0])\n",
        " \n",
        "X_train, y_train = np.array(X_train), np.array(y_train)\n",
        " \n",
        "# Reshape train set\n",
        "X_train = np.reshape(X_train, (X_train.shape[0], X_train.shape[1], 1))"
      ],
      "execution_count": 115,
      "outputs": []
    },
    {
      "cell_type": "code",
      "metadata": {
        "id": "m68Mny7xRmeM",
        "outputId": "20c3df13-4ae8-4929-d790-252b78aa62d1",
        "colab": {
          "base_uri": "https://localhost:8080/"
        }
      },
      "source": [
        "# Initiate model\n",
        "regressor = Sequential()\n",
        " \n",
        "# Add one LSTM layer\n",
        "regressor.add(LSTM(units=n_lag, input_shape=(X_train.shape[1], 1)))\n",
        " \n",
        "# Add an output layer\n",
        "regressor.add(Dense(units=1))\n",
        " \n",
        "# Compile the model\n",
        "opt = RMSprop(lr=0.0001)\n",
        "regressor.compile(optimizer = opt, loss = 'mae')\n",
        " \n",
        "# Fit LSTM to the training set with a split for validation\n",
        "history = regressor.fit(X_train, y_train, validation_split=0.2, epochs=200, batch_size=32)"
      ],
      "execution_count": 116,
      "outputs": [
        {
          "output_type": "stream",
          "text": [
            "Epoch 1/200\n",
            "2/2 [==============================] - 1s 250ms/step - loss: 0.5489 - val_loss: 0.5536\n",
            "Epoch 2/200\n",
            "2/2 [==============================] - 0s 15ms/step - loss: 0.5434 - val_loss: 0.5496\n",
            "Epoch 3/200\n",
            "2/2 [==============================] - 0s 16ms/step - loss: 0.5395 - val_loss: 0.5463\n",
            "Epoch 4/200\n",
            "2/2 [==============================] - 0s 19ms/step - loss: 0.5362 - val_loss: 0.5433\n",
            "Epoch 5/200\n",
            "2/2 [==============================] - 0s 15ms/step - loss: 0.5332 - val_loss: 0.5405\n",
            "Epoch 6/200\n",
            "2/2 [==============================] - 0s 15ms/step - loss: 0.5304 - val_loss: 0.5379\n",
            "Epoch 7/200\n",
            "2/2 [==============================] - 0s 19ms/step - loss: 0.5277 - val_loss: 0.5353\n",
            "Epoch 8/200\n",
            "2/2 [==============================] - 0s 17ms/step - loss: 0.5251 - val_loss: 0.5328\n",
            "Epoch 9/200\n",
            "2/2 [==============================] - 0s 16ms/step - loss: 0.5226 - val_loss: 0.5304\n",
            "Epoch 10/200\n",
            "2/2 [==============================] - 0s 14ms/step - loss: 0.5201 - val_loss: 0.5280\n",
            "Epoch 11/200\n",
            "2/2 [==============================] - 0s 17ms/step - loss: 0.5177 - val_loss: 0.5256\n",
            "Epoch 12/200\n",
            "2/2 [==============================] - 0s 17ms/step - loss: 0.5153 - val_loss: 0.5233\n",
            "Epoch 13/200\n",
            "2/2 [==============================] - 0s 16ms/step - loss: 0.5129 - val_loss: 0.5209\n",
            "Epoch 14/200\n",
            "2/2 [==============================] - 0s 17ms/step - loss: 0.5105 - val_loss: 0.5186\n",
            "Epoch 15/200\n",
            "2/2 [==============================] - 0s 15ms/step - loss: 0.5081 - val_loss: 0.5163\n",
            "Epoch 16/200\n",
            "2/2 [==============================] - 0s 15ms/step - loss: 0.5058 - val_loss: 0.5140\n",
            "Epoch 17/200\n",
            "2/2 [==============================] - 0s 16ms/step - loss: 0.5034 - val_loss: 0.5117\n",
            "Epoch 18/200\n",
            "2/2 [==============================] - 0s 15ms/step - loss: 0.5011 - val_loss: 0.5094\n",
            "Epoch 19/200\n",
            "2/2 [==============================] - 0s 16ms/step - loss: 0.4988 - val_loss: 0.5071\n",
            "Epoch 20/200\n",
            "2/2 [==============================] - 0s 15ms/step - loss: 0.4964 - val_loss: 0.5048\n",
            "Epoch 21/200\n",
            "2/2 [==============================] - 0s 16ms/step - loss: 0.4941 - val_loss: 0.5025\n",
            "Epoch 22/200\n",
            "2/2 [==============================] - 0s 17ms/step - loss: 0.4917 - val_loss: 0.5002\n",
            "Epoch 23/200\n",
            "2/2 [==============================] - 0s 15ms/step - loss: 0.4894 - val_loss: 0.4979\n",
            "Epoch 24/200\n",
            "2/2 [==============================] - 0s 16ms/step - loss: 0.4870 - val_loss: 0.4956\n",
            "Epoch 25/200\n",
            "2/2 [==============================] - 0s 15ms/step - loss: 0.4847 - val_loss: 0.4933\n",
            "Epoch 26/200\n",
            "2/2 [==============================] - 0s 18ms/step - loss: 0.4823 - val_loss: 0.4910\n",
            "Epoch 27/200\n",
            "2/2 [==============================] - 0s 15ms/step - loss: 0.4800 - val_loss: 0.4887\n",
            "Epoch 28/200\n",
            "2/2 [==============================] - 0s 15ms/step - loss: 0.4776 - val_loss: 0.4864\n",
            "Epoch 29/200\n",
            "2/2 [==============================] - 0s 18ms/step - loss: 0.4752 - val_loss: 0.4841\n",
            "Epoch 30/200\n",
            "2/2 [==============================] - 0s 19ms/step - loss: 0.4729 - val_loss: 0.4818\n",
            "Epoch 31/200\n",
            "2/2 [==============================] - 0s 16ms/step - loss: 0.4705 - val_loss: 0.4794\n",
            "Epoch 32/200\n",
            "2/2 [==============================] - 0s 15ms/step - loss: 0.4681 - val_loss: 0.4773\n",
            "Epoch 33/200\n",
            "2/2 [==============================] - 0s 15ms/step - loss: 0.4658 - val_loss: 0.4753\n",
            "Epoch 34/200\n",
            "2/2 [==============================] - 0s 15ms/step - loss: 0.4634 - val_loss: 0.4732\n",
            "Epoch 35/200\n",
            "2/2 [==============================] - 0s 15ms/step - loss: 0.4610 - val_loss: 0.4712\n",
            "Epoch 36/200\n",
            "2/2 [==============================] - 0s 15ms/step - loss: 0.4586 - val_loss: 0.4692\n",
            "Epoch 37/200\n",
            "2/2 [==============================] - 0s 16ms/step - loss: 0.4562 - val_loss: 0.4672\n",
            "Epoch 38/200\n",
            "2/2 [==============================] - 0s 15ms/step - loss: 0.4538 - val_loss: 0.4652\n",
            "Epoch 39/200\n",
            "2/2 [==============================] - 0s 14ms/step - loss: 0.4514 - val_loss: 0.4631\n",
            "Epoch 40/200\n",
            "2/2 [==============================] - 0s 16ms/step - loss: 0.4490 - val_loss: 0.4611\n",
            "Epoch 41/200\n",
            "2/2 [==============================] - 0s 15ms/step - loss: 0.4466 - val_loss: 0.4591\n",
            "Epoch 42/200\n",
            "2/2 [==============================] - 0s 15ms/step - loss: 0.4442 - val_loss: 0.4570\n",
            "Epoch 43/200\n",
            "2/2 [==============================] - 0s 14ms/step - loss: 0.4418 - val_loss: 0.4550\n",
            "Epoch 44/200\n",
            "2/2 [==============================] - 0s 18ms/step - loss: 0.4394 - val_loss: 0.4530\n",
            "Epoch 45/200\n",
            "2/2 [==============================] - 0s 15ms/step - loss: 0.4369 - val_loss: 0.4509\n",
            "Epoch 46/200\n",
            "2/2 [==============================] - 0s 14ms/step - loss: 0.4345 - val_loss: 0.4489\n",
            "Epoch 47/200\n",
            "2/2 [==============================] - 0s 15ms/step - loss: 0.4321 - val_loss: 0.4468\n",
            "Epoch 48/200\n",
            "2/2 [==============================] - 0s 16ms/step - loss: 0.4296 - val_loss: 0.4447\n",
            "Epoch 49/200\n",
            "2/2 [==============================] - 0s 16ms/step - loss: 0.4272 - val_loss: 0.4427\n",
            "Epoch 50/200\n",
            "2/2 [==============================] - 0s 13ms/step - loss: 0.4247 - val_loss: 0.4406\n",
            "Epoch 51/200\n",
            "2/2 [==============================] - 0s 15ms/step - loss: 0.4223 - val_loss: 0.4386\n",
            "Epoch 52/200\n",
            "2/2 [==============================] - 0s 21ms/step - loss: 0.4198 - val_loss: 0.4365\n",
            "Epoch 53/200\n",
            "2/2 [==============================] - 0s 20ms/step - loss: 0.4174 - val_loss: 0.4344\n",
            "Epoch 54/200\n",
            "2/2 [==============================] - 0s 19ms/step - loss: 0.4149 - val_loss: 0.4323\n",
            "Epoch 55/200\n",
            "2/2 [==============================] - 0s 17ms/step - loss: 0.4124 - val_loss: 0.4302\n",
            "Epoch 56/200\n",
            "2/2 [==============================] - 0s 16ms/step - loss: 0.4100 - val_loss: 0.4281\n",
            "Epoch 57/200\n",
            "2/2 [==============================] - 0s 15ms/step - loss: 0.4075 - val_loss: 0.4261\n",
            "Epoch 58/200\n",
            "2/2 [==============================] - 0s 16ms/step - loss: 0.4050 - val_loss: 0.4240\n",
            "Epoch 59/200\n",
            "2/2 [==============================] - 0s 14ms/step - loss: 0.4025 - val_loss: 0.4219\n",
            "Epoch 60/200\n",
            "2/2 [==============================] - 0s 16ms/step - loss: 0.4000 - val_loss: 0.4198\n",
            "Epoch 61/200\n",
            "2/2 [==============================] - 0s 15ms/step - loss: 0.3975 - val_loss: 0.4176\n",
            "Epoch 62/200\n",
            "2/2 [==============================] - 0s 16ms/step - loss: 0.3950 - val_loss: 0.4155\n",
            "Epoch 63/200\n",
            "2/2 [==============================] - 0s 16ms/step - loss: 0.3925 - val_loss: 0.4134\n",
            "Epoch 64/200\n",
            "2/2 [==============================] - 0s 15ms/step - loss: 0.3900 - val_loss: 0.4113\n",
            "Epoch 65/200\n",
            "2/2 [==============================] - 0s 16ms/step - loss: 0.3875 - val_loss: 0.4092\n",
            "Epoch 66/200\n",
            "2/2 [==============================] - 0s 14ms/step - loss: 0.3850 - val_loss: 0.4071\n",
            "Epoch 67/200\n",
            "2/2 [==============================] - 0s 14ms/step - loss: 0.3824 - val_loss: 0.4049\n",
            "Epoch 68/200\n",
            "2/2 [==============================] - 0s 15ms/step - loss: 0.3799 - val_loss: 0.4028\n",
            "Epoch 69/200\n",
            "2/2 [==============================] - 0s 17ms/step - loss: 0.3774 - val_loss: 0.4007\n",
            "Epoch 70/200\n",
            "2/2 [==============================] - 0s 20ms/step - loss: 0.3748 - val_loss: 0.3985\n",
            "Epoch 71/200\n",
            "2/2 [==============================] - 0s 16ms/step - loss: 0.3723 - val_loss: 0.3964\n",
            "Epoch 72/200\n",
            "2/2 [==============================] - 0s 19ms/step - loss: 0.3697 - val_loss: 0.3942\n",
            "Epoch 73/200\n",
            "2/2 [==============================] - 0s 15ms/step - loss: 0.3672 - val_loss: 0.3920\n",
            "Epoch 74/200\n",
            "2/2 [==============================] - 0s 18ms/step - loss: 0.3646 - val_loss: 0.3899\n",
            "Epoch 75/200\n",
            "2/2 [==============================] - 0s 17ms/step - loss: 0.3621 - val_loss: 0.3877\n",
            "Epoch 76/200\n",
            "2/2 [==============================] - 0s 15ms/step - loss: 0.3595 - val_loss: 0.3856\n",
            "Epoch 77/200\n",
            "2/2 [==============================] - 0s 16ms/step - loss: 0.3569 - val_loss: 0.3834\n",
            "Epoch 78/200\n",
            "2/2 [==============================] - 0s 18ms/step - loss: 0.3543 - val_loss: 0.3812\n",
            "Epoch 79/200\n",
            "2/2 [==============================] - 0s 14ms/step - loss: 0.3517 - val_loss: 0.3790\n",
            "Epoch 80/200\n",
            "2/2 [==============================] - 0s 15ms/step - loss: 0.3491 - val_loss: 0.3768\n",
            "Epoch 81/200\n",
            "2/2 [==============================] - 0s 16ms/step - loss: 0.3465 - val_loss: 0.3746\n",
            "Epoch 82/200\n",
            "2/2 [==============================] - 0s 18ms/step - loss: 0.3439 - val_loss: 0.3724\n",
            "Epoch 83/200\n",
            "2/2 [==============================] - 0s 18ms/step - loss: 0.3413 - val_loss: 0.3702\n",
            "Epoch 84/200\n",
            "2/2 [==============================] - 0s 16ms/step - loss: 0.3387 - val_loss: 0.3680\n",
            "Epoch 85/200\n",
            "2/2 [==============================] - 0s 15ms/step - loss: 0.3361 - val_loss: 0.3658\n",
            "Epoch 86/200\n",
            "2/2 [==============================] - 0s 16ms/step - loss: 0.3335 - val_loss: 0.3636\n",
            "Epoch 87/200\n",
            "2/2 [==============================] - 0s 15ms/step - loss: 0.3309 - val_loss: 0.3614\n",
            "Epoch 88/200\n",
            "2/2 [==============================] - 0s 15ms/step - loss: 0.3282 - val_loss: 0.3592\n",
            "Epoch 89/200\n",
            "2/2 [==============================] - 0s 17ms/step - loss: 0.3256 - val_loss: 0.3569\n",
            "Epoch 90/200\n",
            "2/2 [==============================] - 0s 16ms/step - loss: 0.3229 - val_loss: 0.3547\n",
            "Epoch 91/200\n",
            "2/2 [==============================] - 0s 17ms/step - loss: 0.3203 - val_loss: 0.3525\n",
            "Epoch 92/200\n",
            "2/2 [==============================] - 0s 18ms/step - loss: 0.3176 - val_loss: 0.3502\n",
            "Epoch 93/200\n",
            "2/2 [==============================] - 0s 21ms/step - loss: 0.3149 - val_loss: 0.3479\n",
            "Epoch 94/200\n",
            "2/2 [==============================] - 0s 16ms/step - loss: 0.3122 - val_loss: 0.3457\n",
            "Epoch 95/200\n",
            "2/2 [==============================] - 0s 19ms/step - loss: 0.3096 - val_loss: 0.3434\n",
            "Epoch 96/200\n",
            "2/2 [==============================] - 0s 14ms/step - loss: 0.3069 - val_loss: 0.3411\n",
            "Epoch 97/200\n",
            "2/2 [==============================] - 0s 15ms/step - loss: 0.3042 - val_loss: 0.3389\n",
            "Epoch 98/200\n",
            "2/2 [==============================] - 0s 17ms/step - loss: 0.3015 - val_loss: 0.3366\n",
            "Epoch 99/200\n",
            "2/2 [==============================] - 0s 20ms/step - loss: 0.2988 - val_loss: 0.3344\n",
            "Epoch 100/200\n",
            "2/2 [==============================] - 0s 16ms/step - loss: 0.2963 - val_loss: 0.3321\n",
            "Epoch 101/200\n",
            "2/2 [==============================] - 0s 15ms/step - loss: 0.2937 - val_loss: 0.3299\n",
            "Epoch 102/200\n",
            "2/2 [==============================] - 0s 15ms/step - loss: 0.2911 - val_loss: 0.3276\n",
            "Epoch 103/200\n",
            "2/2 [==============================] - 0s 17ms/step - loss: 0.2885 - val_loss: 0.3253\n",
            "Epoch 104/200\n",
            "2/2 [==============================] - 0s 17ms/step - loss: 0.2859 - val_loss: 0.3230\n",
            "Epoch 105/200\n",
            "2/2 [==============================] - 0s 19ms/step - loss: 0.2833 - val_loss: 0.3207\n",
            "Epoch 106/200\n",
            "2/2 [==============================] - 0s 16ms/step - loss: 0.2806 - val_loss: 0.3184\n",
            "Epoch 107/200\n",
            "2/2 [==============================] - 0s 16ms/step - loss: 0.2780 - val_loss: 0.3161\n",
            "Epoch 108/200\n",
            "2/2 [==============================] - 0s 15ms/step - loss: 0.2753 - val_loss: 0.3138\n",
            "Epoch 109/200\n",
            "2/2 [==============================] - 0s 17ms/step - loss: 0.2726 - val_loss: 0.3114\n",
            "Epoch 110/200\n",
            "2/2 [==============================] - 0s 16ms/step - loss: 0.2700 - val_loss: 0.3091\n",
            "Epoch 111/200\n",
            "2/2 [==============================] - 0s 18ms/step - loss: 0.2673 - val_loss: 0.3067\n",
            "Epoch 112/200\n",
            "2/2 [==============================] - 0s 19ms/step - loss: 0.2645 - val_loss: 0.3043\n",
            "Epoch 113/200\n",
            "2/2 [==============================] - 0s 18ms/step - loss: 0.2618 - val_loss: 0.3020\n",
            "Epoch 114/200\n",
            "2/2 [==============================] - 0s 12ms/step - loss: 0.2591 - val_loss: 0.2996\n",
            "Epoch 115/200\n",
            "2/2 [==============================] - 0s 13ms/step - loss: 0.2564 - val_loss: 0.2972\n",
            "Epoch 116/200\n",
            "2/2 [==============================] - 0s 16ms/step - loss: 0.2539 - val_loss: 0.2950\n",
            "Epoch 117/200\n",
            "2/2 [==============================] - 0s 14ms/step - loss: 0.2515 - val_loss: 0.2927\n",
            "Epoch 118/200\n",
            "2/2 [==============================] - 0s 12ms/step - loss: 0.2492 - val_loss: 0.2905\n",
            "Epoch 119/200\n",
            "2/2 [==============================] - 0s 13ms/step - loss: 0.2470 - val_loss: 0.2882\n",
            "Epoch 120/200\n",
            "2/2 [==============================] - 0s 12ms/step - loss: 0.2447 - val_loss: 0.2859\n",
            "Epoch 121/200\n",
            "2/2 [==============================] - 0s 12ms/step - loss: 0.2424 - val_loss: 0.2836\n",
            "Epoch 122/200\n",
            "2/2 [==============================] - 0s 15ms/step - loss: 0.2399 - val_loss: 0.2812\n",
            "Epoch 123/200\n",
            "2/2 [==============================] - 0s 16ms/step - loss: 0.2376 - val_loss: 0.2788\n",
            "Epoch 124/200\n",
            "2/2 [==============================] - 0s 15ms/step - loss: 0.2351 - val_loss: 0.2764\n",
            "Epoch 125/200\n",
            "2/2 [==============================] - 0s 14ms/step - loss: 0.2327 - val_loss: 0.2740\n",
            "Epoch 126/200\n",
            "2/2 [==============================] - 0s 13ms/step - loss: 0.2303 - val_loss: 0.2717\n",
            "Epoch 127/200\n",
            "2/2 [==============================] - 0s 12ms/step - loss: 0.2279 - val_loss: 0.2696\n",
            "Epoch 128/200\n",
            "2/2 [==============================] - 0s 12ms/step - loss: 0.2254 - val_loss: 0.2678\n",
            "Epoch 129/200\n",
            "2/2 [==============================] - 0s 15ms/step - loss: 0.2230 - val_loss: 0.2662\n",
            "Epoch 130/200\n",
            "2/2 [==============================] - 0s 14ms/step - loss: 0.2207 - val_loss: 0.2645\n",
            "Epoch 131/200\n",
            "2/2 [==============================] - 0s 14ms/step - loss: 0.2185 - val_loss: 0.2629\n",
            "Epoch 132/200\n",
            "2/2 [==============================] - 0s 13ms/step - loss: 0.2163 - val_loss: 0.2613\n",
            "Epoch 133/200\n",
            "2/2 [==============================] - 0s 12ms/step - loss: 0.2143 - val_loss: 0.2597\n",
            "Epoch 134/200\n",
            "2/2 [==============================] - 0s 13ms/step - loss: 0.2122 - val_loss: 0.2581\n",
            "Epoch 135/200\n",
            "2/2 [==============================] - 0s 14ms/step - loss: 0.2102 - val_loss: 0.2565\n",
            "Epoch 136/200\n",
            "2/2 [==============================] - 0s 15ms/step - loss: 0.2080 - val_loss: 0.2548\n",
            "Epoch 137/200\n",
            "2/2 [==============================] - 0s 14ms/step - loss: 0.2059 - val_loss: 0.2531\n",
            "Epoch 138/200\n",
            "2/2 [==============================] - 0s 13ms/step - loss: 0.2037 - val_loss: 0.2514\n",
            "Epoch 139/200\n",
            "2/2 [==============================] - 0s 15ms/step - loss: 0.2016 - val_loss: 0.2497\n",
            "Epoch 140/200\n",
            "2/2 [==============================] - 0s 17ms/step - loss: 0.1995 - val_loss: 0.2480\n",
            "Epoch 141/200\n",
            "2/2 [==============================] - 0s 19ms/step - loss: 0.1974 - val_loss: 0.2462\n",
            "Epoch 142/200\n",
            "2/2 [==============================] - 0s 15ms/step - loss: 0.1953 - val_loss: 0.2446\n",
            "Epoch 143/200\n",
            "2/2 [==============================] - 0s 18ms/step - loss: 0.1932 - val_loss: 0.2429\n",
            "Epoch 144/200\n",
            "2/2 [==============================] - 0s 18ms/step - loss: 0.1911 - val_loss: 0.2412\n",
            "Epoch 145/200\n",
            "2/2 [==============================] - 0s 16ms/step - loss: 0.1890 - val_loss: 0.2395\n",
            "Epoch 146/200\n",
            "2/2 [==============================] - 0s 16ms/step - loss: 0.1869 - val_loss: 0.2377\n",
            "Epoch 147/200\n",
            "2/2 [==============================] - 0s 20ms/step - loss: 0.1847 - val_loss: 0.2363\n",
            "Epoch 148/200\n",
            "2/2 [==============================] - 0s 19ms/step - loss: 0.1824 - val_loss: 0.2349\n",
            "Epoch 149/200\n",
            "2/2 [==============================] - 0s 17ms/step - loss: 0.1802 - val_loss: 0.2335\n",
            "Epoch 150/200\n",
            "2/2 [==============================] - 0s 16ms/step - loss: 0.1780 - val_loss: 0.2322\n",
            "Epoch 151/200\n",
            "2/2 [==============================] - 0s 15ms/step - loss: 0.1758 - val_loss: 0.2308\n",
            "Epoch 152/200\n",
            "2/2 [==============================] - 0s 15ms/step - loss: 0.1736 - val_loss: 0.2294\n",
            "Epoch 153/200\n",
            "2/2 [==============================] - 0s 16ms/step - loss: 0.1714 - val_loss: 0.2281\n",
            "Epoch 154/200\n",
            "2/2 [==============================] - 0s 15ms/step - loss: 0.1691 - val_loss: 0.2266\n",
            "Epoch 155/200\n",
            "2/2 [==============================] - 0s 17ms/step - loss: 0.1668 - val_loss: 0.2252\n",
            "Epoch 156/200\n",
            "2/2 [==============================] - 0s 19ms/step - loss: 0.1646 - val_loss: 0.2238\n",
            "Epoch 157/200\n",
            "2/2 [==============================] - 0s 21ms/step - loss: 0.1624 - val_loss: 0.2225\n",
            "Epoch 158/200\n",
            "2/2 [==============================] - 0s 17ms/step - loss: 0.1602 - val_loss: 0.2211\n",
            "Epoch 159/200\n",
            "2/2 [==============================] - 0s 17ms/step - loss: 0.1582 - val_loss: 0.2198\n",
            "Epoch 160/200\n",
            "2/2 [==============================] - 0s 17ms/step - loss: 0.1561 - val_loss: 0.2184\n",
            "Epoch 161/200\n",
            "2/2 [==============================] - 0s 19ms/step - loss: 0.1539 - val_loss: 0.2170\n",
            "Epoch 162/200\n",
            "2/2 [==============================] - 0s 15ms/step - loss: 0.1518 - val_loss: 0.2157\n",
            "Epoch 163/200\n",
            "2/2 [==============================] - 0s 17ms/step - loss: 0.1501 - val_loss: 0.2144\n",
            "Epoch 164/200\n",
            "2/2 [==============================] - 0s 16ms/step - loss: 0.1484 - val_loss: 0.2132\n",
            "Epoch 165/200\n",
            "2/2 [==============================] - 0s 18ms/step - loss: 0.1469 - val_loss: 0.2119\n",
            "Epoch 166/200\n",
            "2/2 [==============================] - 0s 16ms/step - loss: 0.1454 - val_loss: 0.2107\n",
            "Epoch 167/200\n",
            "2/2 [==============================] - 0s 17ms/step - loss: 0.1438 - val_loss: 0.2093\n",
            "Epoch 168/200\n",
            "2/2 [==============================] - 0s 15ms/step - loss: 0.1423 - val_loss: 0.2081\n",
            "Epoch 169/200\n",
            "2/2 [==============================] - 0s 19ms/step - loss: 0.1409 - val_loss: 0.2069\n",
            "Epoch 170/200\n",
            "2/2 [==============================] - 0s 16ms/step - loss: 0.1398 - val_loss: 0.2057\n",
            "Epoch 171/200\n",
            "2/2 [==============================] - 0s 23ms/step - loss: 0.1387 - val_loss: 0.2046\n",
            "Epoch 172/200\n",
            "2/2 [==============================] - 0s 21ms/step - loss: 0.1377 - val_loss: 0.2036\n",
            "Epoch 173/200\n",
            "2/2 [==============================] - 0s 22ms/step - loss: 0.1369 - val_loss: 0.2026\n",
            "Epoch 174/200\n",
            "2/2 [==============================] - 0s 20ms/step - loss: 0.1360 - val_loss: 0.2014\n",
            "Epoch 175/200\n",
            "2/2 [==============================] - 0s 26ms/step - loss: 0.1350 - val_loss: 0.2002\n",
            "Epoch 176/200\n",
            "2/2 [==============================] - 0s 18ms/step - loss: 0.1339 - val_loss: 0.1989\n",
            "Epoch 177/200\n",
            "2/2 [==============================] - 0s 17ms/step - loss: 0.1330 - val_loss: 0.1978\n",
            "Epoch 178/200\n",
            "2/2 [==============================] - 0s 19ms/step - loss: 0.1320 - val_loss: 0.1965\n",
            "Epoch 179/200\n",
            "2/2 [==============================] - 0s 16ms/step - loss: 0.1311 - val_loss: 0.1954\n",
            "Epoch 180/200\n",
            "2/2 [==============================] - 0s 21ms/step - loss: 0.1306 - val_loss: 0.1942\n",
            "Epoch 181/200\n",
            "2/2 [==============================] - 0s 17ms/step - loss: 0.1297 - val_loss: 0.1931\n",
            "Epoch 182/200\n",
            "2/2 [==============================] - 0s 16ms/step - loss: 0.1290 - val_loss: 0.1924\n",
            "Epoch 183/200\n",
            "2/2 [==============================] - 0s 21ms/step - loss: 0.1285 - val_loss: 0.1915\n",
            "Epoch 184/200\n",
            "2/2 [==============================] - 0s 17ms/step - loss: 0.1282 - val_loss: 0.1910\n",
            "Epoch 185/200\n",
            "2/2 [==============================] - 0s 16ms/step - loss: 0.1280 - val_loss: 0.1906\n",
            "Epoch 186/200\n",
            "2/2 [==============================] - 0s 15ms/step - loss: 0.1278 - val_loss: 0.1901\n",
            "Epoch 187/200\n",
            "2/2 [==============================] - 0s 17ms/step - loss: 0.1276 - val_loss: 0.1898\n",
            "Epoch 188/200\n",
            "2/2 [==============================] - 0s 20ms/step - loss: 0.1275 - val_loss: 0.1894\n",
            "Epoch 189/200\n",
            "2/2 [==============================] - 0s 19ms/step - loss: 0.1273 - val_loss: 0.1891\n",
            "Epoch 190/200\n",
            "2/2 [==============================] - 0s 19ms/step - loss: 0.1271 - val_loss: 0.1888\n",
            "Epoch 191/200\n",
            "2/2 [==============================] - 0s 15ms/step - loss: 0.1270 - val_loss: 0.1885\n",
            "Epoch 192/200\n",
            "2/2 [==============================] - 0s 18ms/step - loss: 0.1272 - val_loss: 0.1885\n",
            "Epoch 193/200\n",
            "2/2 [==============================] - 0s 16ms/step - loss: 0.1269 - val_loss: 0.1885\n",
            "Epoch 194/200\n",
            "2/2 [==============================] - 0s 17ms/step - loss: 0.1269 - val_loss: 0.1884\n",
            "Epoch 195/200\n",
            "2/2 [==============================] - 0s 20ms/step - loss: 0.1269 - val_loss: 0.1884\n",
            "Epoch 196/200\n",
            "2/2 [==============================] - 0s 15ms/step - loss: 0.1269 - val_loss: 0.1884\n",
            "Epoch 197/200\n",
            "2/2 [==============================] - 0s 20ms/step - loss: 0.1269 - val_loss: 0.1884\n",
            "Epoch 198/200\n",
            "2/2 [==============================] - 0s 17ms/step - loss: 0.1270 - val_loss: 0.1884\n",
            "Epoch 199/200\n",
            "2/2 [==============================] - 0s 19ms/step - loss: 0.1269 - val_loss: 0.1884\n",
            "Epoch 200/200\n",
            "2/2 [==============================] - 0s 23ms/step - loss: 0.1270 - val_loss: 0.1884\n"
          ],
          "name": "stdout"
        }
      ]
    },
    {
      "cell_type": "code",
      "metadata": {
        "id": "i1dM8JW6Rm30",
        "outputId": "c0522311-3826-494f-edec-6d945def82d0",
        "colab": {
          "base_uri": "https://localhost:8080/"
        }
      },
      "source": [
        "# Prepare test set\n",
        "inputs = series[len(series) - len(test) - n_lag:].values\n",
        "inputs = inputs.reshape(-1,1)\n",
        "inputs = sc.transform(inputs)\n",
        "X_test = []\n",
        "for i in range(n_lag, n_lag+len(test)):\n",
        "    X_test.append(inputs[i-n_lag:i, 0])\n",
        "     \n",
        "X_test = np.array(X_test)\n",
        "X_test = np.reshape(X_test, (X_test.shape[0], X_test.shape[1], 1))\n",
        " \n",
        "# Forecast\n",
        "predict_scaled = regressor.predict(X_test)\n",
        "predict = sc.inverse_transform(predict_scaled)\n",
        " \n",
        "predict = pd.DataFrame(predict)\n",
        "predict.columns = ['Aylık Enflasyon']\n",
        "predict.index = test.index"
      ],
      "execution_count": 117,
      "outputs": [
        {
          "output_type": "stream",
          "text": [
            "WARNING:tensorflow:8 out of the last 11 calls to <function Model.make_predict_function.<locals>.predict_function at 0x7ff56d215ea0> triggered tf.function retracing. Tracing is expensive and the excessive number of tracings could be due to (1) creating @tf.function repeatedly in a loop, (2) passing tensors with different shapes, (3) passing Python objects instead of tensors. For (1), please define your @tf.function outside of the loop. For (2), @tf.function has experimental_relax_shapes=True option that relaxes argument shapes that can avoid unnecessary retracing. For (3), please refer to https://www.tensorflow.org/tutorials/customization/performance#python_or_tensor_args and https://www.tensorflow.org/api_docs/python/tf/function for  more details.\n"
          ],
          "name": "stdout"
        }
      ]
    },
    {
      "cell_type": "code",
      "metadata": {
        "id": "jsdQ-g0MZNKA",
        "outputId": "7039eb31-3049-4d5d-c03d-0bcc472286e5",
        "colab": {
          "base_uri": "https://localhost:8080/",
          "height": 450
        }
      },
      "source": [
        "predict"
      ],
      "execution_count": 118,
      "outputs": [
        {
          "output_type": "execute_result",
          "data": {
            "text/html": [
              "<div>\n",
              "<style scoped>\n",
              "    .dataframe tbody tr th:only-of-type {\n",
              "        vertical-align: middle;\n",
              "    }\n",
              "\n",
              "    .dataframe tbody tr th {\n",
              "        vertical-align: top;\n",
              "    }\n",
              "\n",
              "    .dataframe thead th {\n",
              "        text-align: right;\n",
              "    }\n",
              "</style>\n",
              "<table border=\"1\" class=\"dataframe\">\n",
              "  <thead>\n",
              "    <tr style=\"text-align: right;\">\n",
              "      <th></th>\n",
              "      <th>Aylık Enflasyon</th>\n",
              "    </tr>\n",
              "    <tr>\n",
              "      <th>Date</th>\n",
              "      <th></th>\n",
              "    </tr>\n",
              "  </thead>\n",
              "  <tbody>\n",
              "    <tr>\n",
              "      <th>2012-01-01</th>\n",
              "      <td>0.632660</td>\n",
              "    </tr>\n",
              "    <tr>\n",
              "      <th>2012-02-01</th>\n",
              "      <td>0.618372</td>\n",
              "    </tr>\n",
              "    <tr>\n",
              "      <th>2012-03-01</th>\n",
              "      <td>0.594636</td>\n",
              "    </tr>\n",
              "    <tr>\n",
              "      <th>2012-04-01</th>\n",
              "      <td>0.560783</td>\n",
              "    </tr>\n",
              "    <tr>\n",
              "      <th>2012-05-01</th>\n",
              "      <td>0.617404</td>\n",
              "    </tr>\n",
              "    <tr>\n",
              "      <th>...</th>\n",
              "      <td>...</td>\n",
              "    </tr>\n",
              "    <tr>\n",
              "      <th>2018-10-01</th>\n",
              "      <td>1.018290</td>\n",
              "    </tr>\n",
              "    <tr>\n",
              "      <th>2018-11-01</th>\n",
              "      <td>1.090948</td>\n",
              "    </tr>\n",
              "    <tr>\n",
              "      <th>2018-12-01</th>\n",
              "      <td>0.816936</td>\n",
              "    </tr>\n",
              "    <tr>\n",
              "      <th>2019-01-01</th>\n",
              "      <td>0.708643</td>\n",
              "    </tr>\n",
              "    <tr>\n",
              "      <th>2019-02-01</th>\n",
              "      <td>0.704965</td>\n",
              "    </tr>\n",
              "  </tbody>\n",
              "</table>\n",
              "<p>86 rows × 1 columns</p>\n",
              "</div>"
            ],
            "text/plain": [
              "            Aylık Enflasyon\n",
              "Date                       \n",
              "2012-01-01         0.632660\n",
              "2012-02-01         0.618372\n",
              "2012-03-01         0.594636\n",
              "2012-04-01         0.560783\n",
              "2012-05-01         0.617404\n",
              "...                     ...\n",
              "2018-10-01         1.018290\n",
              "2018-11-01         1.090948\n",
              "2018-12-01         0.816936\n",
              "2019-01-01         0.708643\n",
              "2019-02-01         0.704965\n",
              "\n",
              "[86 rows x 1 columns]"
            ]
          },
          "metadata": {
            "tags": []
          },
          "execution_count": 118
        }
      ]
    },
    {
      "cell_type": "code",
      "metadata": {
        "id": "SJXsP6nbSuuj",
        "outputId": "04c10e1c-bc97-49a9-84cc-29c6a8ea8e27",
        "colab": {
          "base_uri": "https://localhost:8080/",
          "height": 312
        }
      },
      "source": [
        "plt.plot(predict, color = 'green', label = 'Tahmin')\n",
        "plt.title('Aylık Enflasyon Tahmini ')\n",
        "plt.xlabel('Time')\n",
        "plt.ylabel('Aylık Enflasyon')\n",
        "plt.legend()"
      ],
      "execution_count": 119,
      "outputs": [
        {
          "output_type": "execute_result",
          "data": {
            "text/plain": [
              "<matplotlib.legend.Legend at 0x7ff569a22fd0>"
            ]
          },
          "metadata": {
            "tags": []
          },
          "execution_count": 119
        },
        {
          "output_type": "display_data",
          "data": {
            "image/png": "[encoded data removed]",
            "text/plain": [
              "<Figure size 432x288 with 1 Axes>"
            ]
          },
          "metadata": {
            "tags": [],
            "needs_background": "light"
          }
        }
      ]
    },
    {
      "cell_type": "code",
      "metadata": {
        "id": "kJ25ex44RqWZ",
        "outputId": "5c5a2da9-2a5f-498c-989f-97c13b26b6cd",
        "colab": {
          "base_uri": "https://localhost:8080/",
          "height": 312
        }
      },
      "source": [
        "plt.plot(df, color = 'blue', label = 'Gerçek')\n",
        "plt.plot(predict, color = 'green', label = 'Tahmin')\n",
        "plt.title('Aylık Enflasyon Tahmini ')\n",
        "plt.xlabel('Time')\n",
        "plt.ylabel('Aylık Enflasyon')\n",
        "plt.legend()"
      ],
      "execution_count": 120,
      "outputs": [
        {
          "output_type": "execute_result",
          "data": {
            "text/plain": [
              "<matplotlib.legend.Legend at 0x7ff567e4deb8>"
            ]
          },
          "metadata": {
            "tags": []
          },
          "execution_count": 120
        },
        {
          "output_type": "display_data",
          "data": {
            "image/png": "[encoded data removed]",
            "text/plain": [
              "<Figure size 432x288 with 1 Axes>"
            ]
          },
          "metadata": {
            "tags": [],
            "needs_background": "light"
          }
        }
      ]
    },
    {
      "cell_type": "code",
      "metadata": {
        "id": "ko2m3RleTgDq"
      },
      "source": [
        "gerçek= df.iloc[:].values"
      ],
      "execution_count": 32,
      "outputs": []
    },
    {
      "cell_type": "code",
      "metadata": {
        "id": "h2-Vq1xfTQpy",
        "outputId": "996d7f83-b4e0-4de7-e5f6-5c9eb54c8f78",
        "colab": {
          "base_uri": "https://localhost:8080/",
          "height": 282
        }
      },
      "source": [
        "\n",
        "plt.plot(gerçek, color = 'green', label = 'Tahmin')"
      ],
      "execution_count": 33,
      "outputs": [
        {
          "output_type": "execute_result",
          "data": {
            "text/plain": [
              "[<matplotlib.lines.Line2D at 0x7ff56c9fec18>]"
            ]
          },
          "metadata": {
            "tags": []
          },
          "execution_count": 33
        },
        {
          "output_type": "display_data",
          "data": {
            "image/png": "[encoded data removed]",
            "text/plain": [
              "<Figure size 432x288 with 1 Axes>"
            ]
          },
          "metadata": {
            "tags": [],
            "needs_background": "light"
          }
        }
      ]
    },
    {
      "cell_type": "code",
      "metadata": {
        "id": "BNqPjq5ITsxg"
      },
      "source": [
        ""
      ],
      "execution_count": null,
      "outputs": []
    }
  ]
}